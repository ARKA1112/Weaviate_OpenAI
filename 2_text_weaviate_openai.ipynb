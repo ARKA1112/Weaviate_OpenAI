{
 "cells": [
  {
   "cell_type": "code",
   "execution_count": 9,
   "metadata": {},
   "outputs": [
    {
     "name": "stdout",
     "output_type": "stream",
     "text": [
      "Collecting weaviate-client\n",
      "  Using cached weaviate_client-3.26.0-py3-none-any.whl.metadata (3.4 kB)\n",
      "Requirement already satisfied: requests<3.0.0,>=2.30.0 in /home/susearc/gamedisk/stable-torch/lib/python3.9/site-packages (from weaviate-client) (2.31.0)\n",
      "Collecting validators<1.0.0,>=0.21.2 (from weaviate-client)\n",
      "  Using cached validators-0.22.0-py3-none-any.whl.metadata (4.7 kB)\n",
      "Collecting authlib<2.0.0,>=1.2.1 (from weaviate-client)\n",
      "  Using cached Authlib-1.3.0-py2.py3-none-any.whl.metadata (3.8 kB)\n",
      "Requirement already satisfied: cryptography in /home/susearc/gamedisk/stable-torch/lib/python3.9/site-packages (from authlib<2.0.0,>=1.2.1->weaviate-client) (41.0.1)\n",
      "Requirement already satisfied: charset-normalizer<4,>=2 in /home/susearc/gamedisk/stable-torch/lib/python3.9/site-packages (from requests<3.0.0,>=2.30.0->weaviate-client) (3.3.2)\n",
      "Requirement already satisfied: idna<4,>=2.5 in /home/susearc/gamedisk/stable-torch/lib/python3.9/site-packages (from requests<3.0.0,>=2.30.0->weaviate-client) (3.6)\n",
      "Requirement already satisfied: urllib3<3,>=1.21.1 in /home/susearc/gamedisk/stable-torch/lib/python3.9/site-packages (from requests<3.0.0,>=2.30.0->weaviate-client) (1.26.16)\n",
      "Requirement already satisfied: certifi>=2017.4.17 in /home/susearc/gamedisk/stable-torch/lib/python3.9/site-packages (from requests<3.0.0,>=2.30.0->weaviate-client) (2023.11.17)\n",
      "Requirement already satisfied: cffi>=1.12 in /home/susearc/gamedisk/stable-torch/lib/python3.9/site-packages (from cryptography->authlib<2.0.0,>=1.2.1->weaviate-client) (1.16.0)\n",
      "Requirement already satisfied: pycparser in /home/susearc/gamedisk/stable-torch/lib/python3.9/site-packages (from cffi>=1.12->cryptography->authlib<2.0.0,>=1.2.1->weaviate-client) (2.21)\n",
      "Using cached weaviate_client-3.26.0-py3-none-any.whl (120 kB)\n",
      "Using cached Authlib-1.3.0-py2.py3-none-any.whl (223 kB)\n",
      "Using cached validators-0.22.0-py3-none-any.whl (26 kB)\n",
      "Installing collected packages: validators, authlib, weaviate-client\n",
      "  Attempting uninstall: validators\n",
      "    Found existing installation: validators 0.20.0\n",
      "    Uninstalling validators-0.20.0:\n",
      "      Successfully uninstalled validators-0.20.0\n",
      "\u001b[31mERROR: pip's dependency resolver does not currently take into account all the packages that are installed. This behaviour is the source of the following dependency conflicts.\n",
      "streamlit 1.24.0 requires importlib-metadata<7,>=1.4, but you have importlib-metadata 7.0.1 which is incompatible.\n",
      "streamlit 1.24.0 requires pillow<10,>=6.2.0, but you have pillow 10.2.0 which is incompatible.\u001b[0m\u001b[31m\n",
      "\u001b[0mSuccessfully installed authlib-1.3.0 validators-0.22.0 weaviate-client-3.26.0\n"
     ]
    }
   ],
   "source": [
    "#!pip install weaviate-client"
   ]
  },
  {
   "cell_type": "code",
   "execution_count": 5,
   "metadata": {},
   "outputs": [],
   "source": [
    "import os\n",
    "import openai\n",
    "from dotenv import load_dotenv"
   ]
  },
  {
   "cell_type": "code",
   "execution_count": 6,
   "metadata": {},
   "outputs": [
    {
     "data": {
      "text/plain": [
       "True"
      ]
     },
     "execution_count": 6,
     "metadata": {},
     "output_type": "execute_result"
    }
   ],
   "source": [
    "load_dotenv('.env')"
   ]
  },
  {
   "cell_type": "code",
   "execution_count": 7,
   "metadata": {},
   "outputs": [],
   "source": [
    "weaviate_url = os.environ['WEAVIATE_URL']"
   ]
  },
  {
   "cell_type": "code",
   "execution_count": 8,
   "metadata": {},
   "outputs": [],
   "source": [
    "from langchain.text_splitter import CharacterTextSplitter\n",
    "from langchain_community.document_loaders import TextLoader\n",
    "from langchain_community.embeddings.openai import OpenAIEmbeddings\n",
    "from langchain_community.vectorstores import Weaviate"
   ]
  },
  {
   "cell_type": "code",
   "execution_count": 9,
   "metadata": {},
   "outputs": [],
   "source": [
    "from langchain_community.document_loaders import TextLoader\n",
    "\n",
    "\n",
    "loader = TextLoader(\"/home/susearc/Documents/github/Weaviate_Openai/gut.txt\") #loads the text file\n",
    "documents =  loader.load() #load as a document\n",
    "text_splitter = CharacterTextSplitter(chunk_size=100, chunk_overlap=10) #Create a splitter\n",
    "docs = text_splitter.split_documents(documents) #apply the splitter and split the documnents\n",
    "\n",
    "\n",
    "embeddings = OpenAIEmbeddings() #load the embeddings\n",
    "\n"
   ]
  },
  {
   "cell_type": "code",
   "execution_count": 32,
   "metadata": {},
   "outputs": [],
   "source": [
    "db = Weaviate.from_documents(docs, embeddings, weaviate_url = weaviate_url, by_text=False)"
   ]
  },
  {
   "cell_type": "code",
   "execution_count": 33,
   "metadata": {},
   "outputs": [],
   "source": [
    "query = \"cancer?\"\n",
    "docs = db.similarity_search(query)"
   ]
  },
  {
   "cell_type": "code",
   "execution_count": 34,
   "metadata": {},
   "outputs": [
    {
     "name": "stdout",
     "output_type": "stream",
     "text": [
      "Artificial Intelligence and Computer Vision\n",
      "The term artificial intelligence refers to computer systems performing complex tasks that would normally require the use of the human brain, such as visual perception (“computer vision”), speech recognition, and decision making.6 Early attempts at polyp detection required explicit programming of software to recognize certain polyp features (eg, textures and shapes).7 These early efforts were focused on recognizing still images because computer-processing speed at that time could not support real-time, live video image analysis. Since then, major advances in deep-learning algorithms using convolutional neural networks have dramatically expanded the capabilities of computer vision for endoscopy. These contemporary algorithms are trained on large data sets and can adapt and “learn” to recognize complex objects in live video.8 The most important applications of AI computer vision in colonoscopy today include computer-aided detection (CADe) and computer-aided diagnosis (CADx). CADe is designed to help the endoscopist detect polyps during colonoscopy and CADx is intended to accurately predict polyp histology without the need for a tissue biopsy.\n",
      "Artificial Intelligence for Detection of Colorectal Polyps (Computer-Aided Detection)\n",
      "AI detection of colorectal polyps was the first target for AI technology in gastroenterology and now a myriad of studies has reported the successful application of AI for the recognition of colon polyps using CADe. These algorithms are the equivalent of a highly trained set of eyes relentlessly scanning the monitor alongside the endoscopist, while simultaneously “flagging” lesions that potentially represent precancerous polyps (Figure 1). Urban and colleagues9 reported one of the earliest applications of convolutional neural network–based CADe on video clips. Their algorithm showed 97% sensitivity, 95% specificity, and 96% accuracy for detection of colorectal polyps, which was superior to the performance of the endoscopists. Importantly, 92% of polyps missed by the endoscopists were detected by the CADe.9 In the last several years, numerous prospective, multicenter studies have found that real-time use of AI CADe tools during colonoscopy leads to improvements in adenoma detection and other related performance metrics. A meta-analysis by Huang et al10 of 10 randomized controlled trials with 6629 patients found that both ADR (relative risk [RR], 1.43; P < .001) and polyp detection rate (RR, 1.44; P < .001) were significantly greater with AI-aided colonoscopy compared with routine colonoscopy. The adenomas detected per colonoscopy (APC) and polyps detected per colonoscopy were also significantly higher in the AI-aided group compared with the routine colonoscopy group.10\n"
     ]
    }
   ],
   "source": [
    "print(docs[0].page_content)"
   ]
  },
  {
   "cell_type": "markdown",
   "metadata": {},
   "source": [
    "Authentication"
   ]
  },
  {
   "cell_type": "code",
   "execution_count": 10,
   "metadata": {},
   "outputs": [],
   "source": [
    "import weaviate\n",
    "\n",
    "client = weaviate.Client(url = weaviate_url)"
   ]
  },
  {
   "cell_type": "code",
   "execution_count": 36,
   "metadata": {},
   "outputs": [],
   "source": [
    "vectorstore = Weaviate.from_documents(documents, embeddings, client=client, by_text=False)"
   ]
  },
  {
   "cell_type": "code",
   "execution_count": 38,
   "metadata": {},
   "outputs": [
    {
     "data": {
      "text/plain": [
       "(Document(page_content='Artificial Intelligence and Computer Vision\\nThe term artificial intelligence refers to computer systems performing complex tasks that would normally require the use of the human brain, such as visual perception (“computer vision”), speech recognition, and decision making.6 Early attempts at polyp detection required explicit programming of software to recognize certain polyp features (eg, textures and shapes).7 These early efforts were focused on recognizing still images because computer-processing speed at that time could not support real-time, live video image analysis. Since then, major advances in deep-learning algorithms using convolutional neural networks have dramatically expanded the capabilities of computer vision for endoscopy. These contemporary algorithms are trained on large data sets and can adapt and “learn” to recognize complex objects in live video.8 The most important applications of AI computer vision in colonoscopy today include computer-aided detection (CADe) and computer-aided diagnosis (CADx). CADe is designed to help the endoscopist detect polyps during colonoscopy and CADx is intended to accurately predict polyp histology without the need for a tissue biopsy.\\nArtificial Intelligence for Detection of Colorectal Polyps (Computer-Aided Detection)\\nAI detection of colorectal polyps was the first target for AI technology in gastroenterology and now a myriad of studies has reported the successful application of AI for the recognition of colon polyps using CADe. These algorithms are the equivalent of a highly trained set of eyes relentlessly scanning the monitor alongside the endoscopist, while simultaneously “flagging” lesions that potentially represent precancerous polyps (Figure 1). Urban and colleagues9 reported one of the earliest applications of convolutional neural network–based CADe on video clips. Their algorithm showed 97% sensitivity, 95% specificity, and 96% accuracy for detection of colorectal polyps, which was superior to the performance of the endoscopists. Importantly, 92% of polyps missed by the endoscopists were detected by the CADe.9 In the last several years, numerous prospective, multicenter studies have found that real-time use of AI CADe tools during colonoscopy leads to improvements in adenoma detection and other related performance metrics. A meta-analysis by Huang et al10 of 10 randomized controlled trials with 6629 patients found that both ADR (relative risk [RR], 1.43; P < .001) and polyp detection rate (RR, 1.44; P < .001) were significantly greater with AI-aided colonoscopy compared with routine colonoscopy. The adenomas detected per colonoscopy (APC) and polyps detected per colonoscopy were also significantly higher in the AI-aided group compared with the routine colonoscopy group.10', metadata={'_additional': {'vector': [-0.015101184, 0.011070667, 0.009453156, -0.0111833615, -0.013457158, 0.017964974, -0.014000747, 0.0037322068, -0.0014973574, 0.0011957315, 0.03197898, 0.021743584, -0.022724697, 0.00656285, -0.0358504, 0.008140586, 0.03288054, 0.0011252968, -0.019860908, -0.017461158, -0.03714971, 0.039907433, 0.00297317, 0.0052635386, -0.016307687, 0.007391493, 0.024567598, -0.058124315, 0.00401726, -0.01714296, 0.016718695, -0.013894681, -0.007948341, -0.022287173, -0.011905938, 0.021266285, 0.013351091, 0.0017517507, 0.011992117, 0.013370979, 0.022923572, -0.0033344582, -0.012495932, -0.018627888, -0.028346209, 0.02200875, 0.002335115, -0.007842274, -0.028664408, 0.014796244, 0.020788988, 0.020311689, -0.00957911, -0.0037023756, -0.0107126925, -0.000943824, -0.013384237, 0.0071793604, 0.009227765, -0.028107561, 0.008790242, -0.018720696, 0.0054955585, 0.022181109, -0.017394867, 0.009678546, -0.004593995, 0.03351694, 0.0010523762, -0.0076632877, 0.03375559, 0.037494425, 0.0011576138, -0.0068611614, 0.0401726, -0.01752745, -0.009817759, 0.011998747, -0.0068213865, 0.032694925, -0.0033941206, -0.0061584725, -0.0059894295, 0.036539827, 0.031475164, -0.0005680346, -0.013549966, 0.009400123, -0.005621512, -0.014252654, -0.0033294864, 0.036486797, 0.024925573, 0.018972604, -0.017633516, 0.022976605, -0.0025107875, 0.016480045, 0.0063606612, -0.021611001, -0.014663661, 0.01219762, -0.007729579, -0.013987489, 0.0033261718, 0.01274121, -0.0037885543, 0.021597743, 0.033013124, 0.0071395854, 0.011779984, 0.045847144, -0.002252251, 0.0052171345, 0.0067617246, -0.0403317, 0.022764472, -0.011826389, -0.032774474, -0.02511119, 0.0026218256, 0.022366723, 0.028399242, -0.015803874, 0.021664035, 0.006281112, -0.002328486, 0.0076036253, 0.009983487, -0.025296804, -1.2131847e-05, -0.019675292, 0.020682922, 0.021054154, -0.016811503, -0.013370979, -0.011978859, -0.016161848, -0.023984235, -0.015949715, 0.009108441, 0.017819133, 0.012263912, -0.0073318304, -0.012867164, 0.002416322, 0.016824761, 0.0055949953, 0.021637518, 0.034126822, -0.0074113803, -0.03375559, -0.040649895, 0.0054491544, -0.014226138, 0.015777357, 0.016559595, -0.004163101, 0.0046503427, -0.005359661, -0.020550339, -0.010487302, -0.02362626, -0.002502501, 0.019038895, 0.02037798, -0.011574482, 0.008405752, -0.010003375, -0.02263189, 0.008856533, 0.019052153, -0.019555967, 0.020444272, 0.006194933, -0.016572854, 0.003878048, 0.010076296, -0.0199272, -0.03126303, -0.006841274, 0.014186363, 0.010904938, -0.01536635, -0.010049779, -0.0016730296, 0.019290801, -0.012913568, -0.022804247, -0.03237673, -0.0024925573, 0.0152470255, -0.013165475, -0.011952342, -0.62706375, -0.03847554, 0.009406752, -0.024501307, 0.024196366, 0.020709438, 0.020576855, -0.01915822, 0.0111833615, 0.0023732327, 0.0026168537, -0.008054407, -0.0063043134, 0.007676546, -0.008200248, -0.017195994, 0.006615883, -0.016347462, 0.024567598, 0.018084299, -0.035558715, 0.007868791, -0.017421383, 0.005883363, -0.0049055647, -0.011335832, 0.00023077699, -0.010805501, -0.0027278918, 0.023453902, -0.019715067, 0.007981487, -0.010222136, -0.004550906, 0.027365096, -0.0063573467, 0.002316885, 0.024965348, 0.007550592, 0.032482795, 0.009625514, -0.008094182, 0.0045475913, 0.008312943, -0.009512818, 0.024766473, 0.009777984, -0.00013931555, -0.024912314, -0.041206744, -0.0068677906, -0.0031107247, -0.0051475284, -0.0033709186, 0.015114442, 0.0018445586, 0.044574346, -0.024673665, 0.020059783, -0.015644774, -0.0015802216, 0.012204249, -0.013695806, -0.018110815, -0.01768655, 0.04518423, -0.010633143, -0.013602998, -0.013775356, 0.007815758, 0.028637892, 0.011640772, -0.009996746, -0.02101438, 0.015114442, 0.025986236, 0.015684549, 0.007205877, -0.01081213, -0.015684549, 0.011541336, -0.01104415, -0.016400496, 0.011050779, 0.011488303, 0.01815059, -0.009678546, 0.013523449, -0.009221136, -0.007683175, 0.017235769, 0.026145335, -0.0035664781, -0.04224089, -0.011819759, -0.003652657, -0.028054528, -0.0077096918, -0.0062148203, -0.0061418996, -0.004262538, -0.019423384, -0.019569226, 0.008193619, 0.015273542, -0.0061518434, -0.01274121, 0.0040968093, 0.032111563, -0.044733446, -0.00988405, -0.0066987476, -0.011766726, 0.00075820804, 0.0132781705, -0.013709065, -0.016731953, 0.011886051, -0.017235769, -0.007676546, 0.031369098, -0.03264189, -0.011481673, -0.0073782345, 0.017633516, -0.0092145065, -0.0075307046, -0.036089048, 0.008611255, -0.0031140393, -0.006068979, -0.014676919, -0.019436643, 0.010699434, -0.0035333324, -0.014650403, 0.017951716, 0.0011128671, -0.041100677, 0.0022920256, -0.0074710427, -0.013470416, 0.020404497, 0.010706063, -0.01923777, -0.0026566284, -0.024435015, 0.008558222, -0.01181313, -0.0016664005, -0.02239324, -0.007550592, -0.002340087, 0.03343739, -0.014120071, -1.0306244e-05, 0.0018743898, 0.004272482, -0.020629888, -0.020470789, 0.012827389, 0.012078296, 0.011965601, -6.888092e-05, 0.012316945, -0.0030924946, -0.0011352405, 0.015737582, -0.026993865, -0.031793363, 0.032694925, -0.004007316, 0.008783612, 0.013430641, -0.008472043, 0.03174033, -0.02471344, -0.015379609, 0.0066125686, -0.015167476, -0.004000687, -0.005667916, -0.0107126925, -0.026914315, 0.02980462, 0.009817759, 0.036089048, -0.016480045, -0.012462786, 0.01946316, -0.004232707, 0.0075771087, -0.0018064411, -0.006841274, -0.029221255, 0.0310509, 0.005764039, 0.013013005, 0.013762098, 0.030520568, 0.023082672, 0.0049784854, 0.020245397, 0.0064932443, 0.008027891, -0.00024900713, 0.0085317055, -0.011249653, 0.01366929, -0.01614859, 0.002502501, 0.0057806117, 0.012131329, 0.001131926, 0.019224511, 0.03415334, 0.004355346, 0.007245652, -0.033782106, 0.021253027, -0.0077759833, 0.0046602865, 0.044229634, -0.0076036253, -0.008432268, 0.033729073, 0.019277543, 0.028478792, -0.012926826, -0.056215122, -0.004355346, 0.03760049, 0.0086444, 0.027205996, 0.012376607, 0.022565598, 0.009744838, 0.01290031, 0.021398868, 0.0073384596, -0.016241398, 0.009400123, 0.020510564, -0.0057043764, -0.003112382, -0.003170387, 0.04502513, 0.019423384, -0.000657528, 0.02016585, -0.003622826, -0.025190737, -0.02431569, 0.006039148, -0.0150348935, -0.008332831, 0.026437016, 0.01952945, 0.031209998, 0.041843142, 0.013258283, 0.009930454, -0.0037786106, 0.014332204, -0.017858908, 0.0092145065, 0.030334951, -0.015392867, 0.0056082536, -0.031156965, 0.0014476388, -0.027550712, 0.012376607, -0.0390589, 0.021027638, 0.011156845, 0.0062280786, 0.014676919, 0.025310062, 0.03791869, -0.02029843, -0.045528945, 0.031475164, 0.014425012, 0.0007573794, -0.02386491, -0.025018381, -0.009161473, 0.0012843962, -0.007583738, -0.018110815, 0.03197898, 0.0007354204, 0.023904685, -0.009764725, -0.0046138824, 0.017063411, -0.0108850505, 0.011793243, -0.0034007495, 0.001463383, -0.009625514, -0.016652403, -0.03296009, 0.036089048, -0.01968855, -0.0017318632, 0.0029433388, -0.025336578, -0.012641773, -0.009532706, 0.0025770788, 0.002873733, 0.001131926, -0.013211879, 0.0023069412, -0.027365096, -0.0016324262, 0.02263189, 0.008604626, -0.015843648, -0.027974978, 0.021107187, 0.0066457144, 0.04820712, -0.0044746706, -0.01197223, 0.012005376, -0.011329203, -0.025813878, -0.031925946, -0.03768004, 0.026741957, 0.021001121, -0.019953717, 0.0047762967, 0.039880916, -0.0024262657, 0.022950089, 0.025071414, 0.005883363, -0.014584111, 0.009141586, 0.0052171345, 0.004023889, 0.0088035, 0.04409705, -0.0028869912, 0.011435269, -0.0531392, 0.022790989, 0.028903058, -0.017872166, -0.004789555, -0.023573227, 0.02980462, -0.018879795, 0.0066424, -0.022923572, -0.005290055, 0.03197898, 0.021239769, -0.019144962, -0.012734581, 0.027020382, 0.024978606, 0.0022771102, -0.0071528438, -0.000772295, -0.017434642, 0.016188364, 0.009983487, -0.018110815, -0.041763593, 0.0011012661, 0.002613539, -0.0134505285, -0.00041535715, 0.011700435, 0.0044978727, -0.006808128, -0.014915569, 0.010434269, 0.002270481, -2.233451e-05, -0.016453529, -0.0075704795, 0.011123699, 0.005005002, -0.016930828, -0.005299999, -0.024275916, 0.0061982474, 0.029990237, -0.0090023745, -0.020948088, -0.020192366, -0.0014998433, -0.00063639757, 0.013894681, 0.028160593, -0.031554714, -0.007915195, 0.020311689, 0.012270541, -0.026516566, -0.007583738, -0.013987489, -0.004226078, -0.015273542, 0.00016510706, -0.036725443, -0.016559595, 0.024832765, 0.02231369, -0.00795497, 0.0055419626, 0.007404751, 0.0022505936, 0.010778984, 0.005906565, 0.011614256, 0.0077759833, -0.053563464, 0.009221136, -0.037043642, -0.022963347, -0.030441018, 0.022128075, -0.0021180108, 0.0020649775, 0.00586679, 0.005870105, -0.016161848, -0.003460412, 0.0066390852, 0.015923198, -0.023997493, 0.027683295, 0.013496933, -0.010162474, 0.006417009, 0.025442645, -0.010169103, -0.00053654617, -0.004338773, 0.015790615, -0.015604999, -0.023533452, 0.019251028, 0.002311913, -0.0065230755, -0.016241398, 0.005956284, 0.004338773, 0.011713693, 0.0050911806, -0.043142453, -0.011289428, -0.017434642, -0.009320573, 0.012867164, -0.021173479, -0.020908313, 0.004942025, 0.012853906, 0.009612256, -0.021438643, 0.015684549, -0.023758844, 0.029539455, 0.020232141, -0.0078091286, 0.027285546, 0.011859534, -0.0007370777, 0.002451125, 0.010918196, -0.008969229, -0.031183481, -0.0122506535, -0.0039410247, 0.052237637, 0.037865657, 0.027709812, 0.030281918, 0.02633095, 0.002543933, -0.012409753, 0.0019158219, -0.01714296, -0.006579423, -0.016055781, 0.022870539, 0.020815505, -0.0039575975, 0.01946316, -0.017964974, 0.033410873, 0.0043884916, -0.0039410247, -0.014212879, -0.030096304, -0.027086673, -0.042718187, 0.004332144, 0.02277773, 0.02061663, -0.019966975, 0.012767727, 0.0348958, 0.024501307, 0.019542709, -0.009705063, 0.027312063, 0.014743211, 0.0036029385, 0.02725903, 0.010739209, -0.001001829, -0.012595369, -0.024302432, 0.010447527, 0.026901057, 0.010931455, -0.0030974664, 0.03126303, -3.9049788e-05, -0.0128936805, 0.01707667, -0.0048193857, -0.016135331, 0.0035631636, -0.025535453, -0.0024295803, -0.02317548, -0.0004971856, -0.017474417, -0.016466787, 0.010454156, 0.0011037521, 0.020735955, 0.008478672, -0.029062157, 0.016042523, 0.023255028, 0.023917943, -0.016665662, 0.033941206, 0.014239396, 0.0068545323, -0.0017500934, -0.0008017118, 0.0043288292, 0.019662034, 0.017063411, 0.024488049, 0.005117697, -0.026065785, 0.010639772, 0.015313317, -0.0105005605, -0.060245637, 0.018588113, 0.003994058, 0.026927574, -0.014226138, -0.024063785, -0.02178336, 0.024527824, -0.006632456, -0.012655031, -0.011249653, -4.1950036e-05, -0.028850025, -0.020590113, -0.036168598, 0.0054093795, -0.011607626, 0.013496933, 0.0032250774, -0.011229766, -0.006450155, 0.008120699, 0.02503164, -0.012582111, 0.0001269895, 0.014849277, 0.0131058125, 0.0072854264, 0.014928827, -0.012542336, 0.0015636488, 0.036433764, -0.009671917, -0.020576855, -0.008564851, 0.003984114, 0.0154459, -0.03407379, -0.015048152, 0.007311943, -0.024130076, -0.0064766714, 0.033808623, 0.0020169164, -0.03839599, 0.012529078, -0.0010399466, -0.008087553, -0.023984235, 0.014491304, 0.0028936204, -0.021491677, -0.010023262, 0.0024080356, 0.0028521882, -0.0032234201, 0.022658406, 0.009479673, -0.014504562, 0.011687176, -0.016466787, 0.0040371474, 0.013152217, 0.023148963, -0.01968855, 0.029380355, -0.009598997, -0.013815131, 0.021730326, -0.024912314, -0.021571226, -0.021770101, -0.017474417, 0.009777984, -0.002805784, 0.005190618, 0.00272292, 0.014358721, -0.010374607, -0.008704063, -0.027232513, -0.012774356, -0.0113557195, 0.0018064411, 0.004975171, -0.010142586, 0.026543083, -0.00272292, -0.00074992166, 0.005923138, -0.03529355, -0.040040016, -0.012529078, 0.015817132, 0.0001227427, -0.005621512, 0.00988405, 0.012442899, -0.022048526, 0.003947654, -0.010785613, -7.4513105e-06, -0.0071462146, 0.017792616, -0.015658032, 0.02717948, -0.0078024995, -0.023347836, -0.005422638, -0.00872395, -0.011753468, 0.01930406, -0.029486421, 0.031554714, 0.020059783, -0.00988405, -0.011004375, -0.028770475, -0.026927574, -0.028982608, -0.003520074, 0.018826762, 0.014716694, 0.012330203, 0.0080610365, 0.03197898, -0.009990117, -0.00888305, -0.025548711, 0.0016506562, 0.0027245772, -0.015697807, 0.0025969662, -0.0013573167, -0.011600998, -0.023970976, -0.0017732953, -0.0078091286, -0.0040868656, 0.035585232, -0.024408499, -0.018269913, 0.004424952, 0.0007068322, 0.009572481, 0.024435015, 0.005724264, -0.012595369, 0.00490225, -0.0001717362, 0.00029520396, -0.008120699, 0.0068611614, -0.0051541575, -0.0061054393, -0.00023802761, -0.021319319, -0.023692552, 0.00038676898, -0.031846397, 0.002641713, 0.0042459653, -0.019807875, 0.008551593, 0.014438271, 0.011024263, -0.031846397, -0.009864163, -0.0072787977, -0.015896682, 0.018574854, -0.036115564, 0.017063411, -0.011945713, 0.015300059, -0.009333831, -0.0027792675, -0.015021635, 0.0069009364, -0.034630634, 0.026437016, -0.019821133, 0.0037023756, -0.006264539, 0.021571226, -0.013132329, -0.024700182, -0.025071414, 0.0015984518, -0.024435015, 0.0029947148, 0.0152868, -0.012283799, -0.013178733, 0.022724697, 0.0017583799, -0.015724324, 0.013463787, 0.19293454, -0.018018007, 0.008220135, 0.019224511, -0.0015595056, 0.009506189, 0.027603745, 0.013549966, 0.008140586, 0.015896682, 0.032907058, -0.008246652, -0.03993395, 0.0031057529, 0.029539455, -0.0075108176, -0.033092674, -0.04224089, -0.0045741075, 0.0029864283, 0.0008054407, -0.0028289862, -0.02029843, -0.0015313317, 0.0033245145, 0.0062048766, 0.014040522, 0.0076632877, 0.03189943, -0.00795497, -0.015565224, -0.019476417, 0.011985488, -0.0008215992, -0.024594115, -0.00214287, -0.021226512, 0.020523822, 0.0013233424, -0.0010001718, -0.0068611614, 0.0011766726, -0.029433388, -0.015923198, 0.0051210118, 0.018879795, 0.015604999, -0.030096304, 0.0020285174, 0.011150216, -0.021332577, -0.0010540335, 0.012880422, 0.0045210747, -0.019105187, -0.007683175, -0.015551967, 0.012290428, 0.014809502, 0.033543456, -0.014093555, 0.0128075015, 0.0076566585, 0.0179252, -0.022883797, 0.032270662, -0.012190991, 0.023984235, 0.0030361468, -0.009413381, 0.012946714, -0.020921571, -0.030016754, -0.017739583, -0.020073041, -0.024355466, 0.028505309, 0.027444646, 0.000992714, 0.009453156, 0.017633516, -0.008008003, -0.018747212, -0.023599744, -0.04218786, -0.015923198, 0.019675292, 0.0052701677, -0.0066357707, 0.0036360843, -0.030122818, -0.031395614, -0.007364976, -0.0030593488, 0.009393494, 0.018442271, 0.007199248, -0.010374607, -0.0013796901, 0.0012943399, -0.024594115, 0.053404365, 0.031634264, 0.007596996, -0.012595369, 0.0069871154, -0.015578482, 0.018243399, 0.013039522, 0.008432268, -0.0074246386, -0.02077573, 0.014703436, -0.013271541, -0.0026118818, 0.036513314, 0.01876047, -0.034630634, 0.010858534, -0.0006558707, 0.004332144, -0.010646401, -0.020842021, 0.027709812, -0.027948461, -0.019144962, -0.02263189, -0.0056016245, -0.0039741704, -0.0077096918, -0.0039277663, -0.006340774, 0.009910567, 0.018627888, 0.0069539696, 0.0007138757, 0.029486421, -0.01026854, -0.00918799, 0.016413754, -0.0058800485, 0.026118819, 0.0128936805, 0.019555967, 0.022247398, 0.0063971216, 0.0014451529, 0.0065595354, -0.012091555, -0.0072920555, -0.024435015, -0.0034140078, 0.019834392, 0.012071667, 0.038449023, -0.016400496, -0.0011252968, 0.001997029, 0.007119698, -0.011455157, -0.02154471, -0.009811129, 0.031793363, -0.01845553, -0.011475044, 0.009028891, -0.1656755, 0.0063507175, 0.011216507, -0.02572107, -0.0025588486, 0.009658659, -0.020059783, 0.003838273, 0.011375607, -0.028213626, 0.0152470255, 0.0066589727, -0.015087926, -0.032403246, 0.023679294, -0.0064833006, -0.029619005, 0.030706184, 0.020842021, 0.013510191, 0.022976605, -0.027577229, -0.008293056, -0.027736329, 0.001945653, -0.018720696, -0.024806248, 0.03150168, -0.016864536, -0.017673291, 0.010666288, -0.014504562, 0.022751214, 0.0040868656, -0.0058502173, -0.012303687, -0.0028041268, -0.03343739, -0.032191113, 0.002910193, 0.03158123, 0.036486797, 0.03296009, -0.0092145065, -0.0044846144, 0.02517748, 0.02247279, -0.03768004, 0.030467534, -0.008001374, 0.01837598, -0.015870165, 0.022406498, -0.013291429, 0.01227717, 0.018641146, 0.010228765, 0.006234708, -0.0026499995, -0.00849856, 0.003699061, -0.011209878, 0.018601371, 0.018495305, -0.019118445, -0.008372606, 0.006536334, 0.019277543, -0.010275169, 0.02109393, 0.009400123, 0.0031869598, -0.03582388, -0.018879795, 0.03065315, 0.014995119, -0.0264105, 0.0051873033, -0.000357145, -0.004408379, -0.007166102, 0.007968228, -0.010102812, -0.011899309, 0.011673918, 0.002416322, 0.006655658, -0.00022539082, -0.0197681, -0.018601371, 0.032509312, -0.03574433, -0.009950342, -0.0057806117, -0.004378548, 0.019118445, 0.0045310184, -0.010367977, -0.006967228, -0.034710184, 0.022075042, -0.010467415, 0.0011484987, 0.016241398, 0.028637892, 0.033729073, -0.007543963, 0.010063037, 0.037865657, 0.0054823, -0.0060722935, 0.010805501, 0.006705377, 0.0031322695, -0.012091555, 0.045926694, -0.023666035, -0.0015454186, 0.003037804, -0.029857654, 0.046244893, -0.006688804, 0.006393807, 0.009678546, -0.0052801115, 0.0024527824, -0.12812805, -0.029274289, 0.019913942, 0.03288054, 0.0077958703, 0.016586112, -0.013384237, -0.0018561597, -0.030838767, 0.028001495, 0.003659286, -0.032615375, -0.0044150082, -0.023666035, 0.010957971, -0.004935396, -0.016387237, -0.0031637577, -0.016320946, 0.022830764, 0.0013639459, 0.002595309, 0.022022009, -0.024063785, -0.011673918, -0.028134078, -0.024819506, 0.022963347, 0.019184737, 0.03860812, 0.012469416, -0.0025290176, -0.0003097052, -0.010301686, -0.019582484, -0.0025240458, -0.008472043, -0.026808249, -0.008690804, -0.02679499, 0.009837646, 0.007086552, -0.0054823, 0.015737582, 0.03327829, -0.014000747, -0.0036427132, 0.028743958, -0.008776983, -0.01699712, -0.018574854, -0.026980607, -0.030361468, 0.021968976, -0.018959345, -0.009937083, 0.03415334, -0.0033212, 0.0031571286, -0.0038283293, 0.00200863, 0.010480673, -0.026609374, 0.013695806, 0.015233767, 0.007451155, -0.018627888, -0.01575084, -0.011786614, -0.01891957, -0.006509817, 0.0012959972, -0.006625827, 0.017275544, -0.009015633, 0.010056408, 0.0018495305, 0.0011940742, 0.01853508, 0.018946087, -0.006234708, -0.018402496, 0.011958972, -0.013079297, -0.010122699, 0.014451529, -0.029672038, -0.03205853, -0.010832017, -0.034604117, 0.008452156, 0.036937576, 0.012913568, -0.0047000614, 0.011077296, 0.0066357707, 0.0032466222, -0.0028256716, 0.006847903, 0.015644774, -0.014040522, -0.014889052, -0.060404737, 0.008027891, 0.0036891173, -0.0045210747, 0.018110815, -0.004935396, 0.019715067, 0.003100781, 0.027577229, 0.0019903998, -0.029353838, 0.006201562, -0.006247966, -0.0052105053, -0.020351464, 0.0055187605, 0.039085418, 0.014318946, 0.021186737, -0.0029483107, 0.019635517, 0.024275916, 0.0035101306, -0.0012073324, -0.0105867395, 0.006712006, -0.025986236, 0.008969229, -0.0011576138, -0.020364722, -0.0051143826, 0.011600998, -0.022830764, 0.007769354, -0.018084299, 0.0013954343, 0.017487675, -0.0054657273, 0.014836019, 0.03775959, -0.009519448, -0.038581602, 0.007908566, -0.016705437, -0.020338206, -0.021955717, -0.010354719, 0.014928827, -0.0096851755, -0.00047895548, 0.027444646, -0.0033195426, -0.020563597, -0.031448647, -0.031634264, -0.0049917437, 0.027497679, -0.015870165, -0.0016332548, -0.012734581, 0.018495305, 0.022128075, 0.00957911, 0.017500933, -0.01042764, -0.013602998, -0.022950089, -0.024846023, 0.0007925967, -0.013682548, -0.022075042, -0.030759217, 0.010991117, -0.0061253267, 0.031289548, -0.006052406, -0.03783914, 0.012615256, 0.0022373353, 0.012330203, 0.0051839887, -0.00045865373, -1.6404536e-05, 0.021584485, 0.036804993, -0.00047066904, -0.020815505, 0.012184362, -0.003559849, 0.0001116596, -0.0030825508, -0.0005357175, 0.004338773, 0.0034471536, -0.0051243263, -0.011143587, -0.007928453, 0.014239396, 0.019781359, 0.015021635, 0.029910687, -0.0035929948, -0.02069618, -0.0051939324, -0.033066157, 0.0074246386, -0.019025637, -0.030414501, -0.014889052, 0.013470416, 0.036274664, 0.013145587, 0.004100124, 0.004338773, -0.010924825, 0.035001867, -0.021730326, -0.0071395854, -0.034789734, 0.012655031, 0.015803874, 0.008909566, 0.028584858, -0.005783926, 0.02511119, 0.025615003, 0.019542709, -0.03529355, 0.013642773, -0.0101558445, -0.004312257, -0.019065412, -0.016347462, 0.010613256, -0.03303964, -0.012456157, 0.01490231, -0.0043884916, -0.020868538, 0.07567828, 0.014173104, -0.0050580353, 0.0172888, -0.0174479, -0.0023019693, 0.0027278918, 0.00474978, -0.0020815504, -0.006307628, 0.01768655, 0.0020484047, -0.0015727639, -0.014438271, -0.010407752, -0.006281112, -0.0056082536, 0.02130606, -0.007676546, -0.0075373338, 0.0141333295, -0.009327202, -0.0030643207, 0.008186989, -0.018468788, -6.9916728e-06, 0.014703436, 0.01829643, -0.0034140078, -0.028081045, 0.012953343, 0.015048152, -0.032403246, -0.032403246, 0.0065959957, -0.011713693, 0.017421383, -0.021796618, -0.00841901, 0.03783914, -0.0009388522, 0.031369098, -0.022181109, -0.022764472, -0.034418505, -0.015260284, -0.015591741, -0.021504935, 0.0071793604]}, 'source': '/home/susearc/Documents/github/Weaviate_Openai/gut.txt'}),\n",
       " 0.7428395294801149)"
      ]
     },
     "execution_count": 38,
     "metadata": {},
     "output_type": "execute_result"
    }
   ],
   "source": [
    "#The return distance is measured by cosine distance\n",
    "#Sometimes we might want to perform the search, but also obtain relevancy score to know how good is a particular result. The returned distance score is cosine distance.Therefore, a lower score is better.\n",
    "\n",
    "\n",
    "docs = db.similarity_search_with_score(query, by_text =False)\n",
    "docs[0]"
   ]
  },
  {
   "cell_type": "markdown",
   "metadata": {},
   "source": [
    "Maximal marginal relevance search (MMR)\n"
   ]
  },
  {
   "cell_type": "code",
   "execution_count": 39,
   "metadata": {},
   "outputs": [
    {
     "data": {
      "text/plain": [
       "Document(page_content='Artificial Intelligence and Computer Vision\\nThe term artificial intelligence refers to computer systems performing complex tasks that would normally require the use of the human brain, such as visual perception (“computer vision”), speech recognition, and decision making.6 Early attempts at polyp detection required explicit programming of software to recognize certain polyp features (eg, textures and shapes).7 These early efforts were focused on recognizing still images because computer-processing speed at that time could not support real-time, live video image analysis. Since then, major advances in deep-learning algorithms using convolutional neural networks have dramatically expanded the capabilities of computer vision for endoscopy. These contemporary algorithms are trained on large data sets and can adapt and “learn” to recognize complex objects in live video.8 The most important applications of AI computer vision in colonoscopy today include computer-aided detection (CADe) and computer-aided diagnosis (CADx). CADe is designed to help the endoscopist detect polyps during colonoscopy and CADx is intended to accurately predict polyp histology without the need for a tissue biopsy.\\nArtificial Intelligence for Detection of Colorectal Polyps (Computer-Aided Detection)\\nAI detection of colorectal polyps was the first target for AI technology in gastroenterology and now a myriad of studies has reported the successful application of AI for the recognition of colon polyps using CADe. These algorithms are the equivalent of a highly trained set of eyes relentlessly scanning the monitor alongside the endoscopist, while simultaneously “flagging” lesions that potentially represent precancerous polyps (Figure 1). Urban and colleagues9 reported one of the earliest applications of convolutional neural network–based CADe on video clips. Their algorithm showed 97% sensitivity, 95% specificity, and 96% accuracy for detection of colorectal polyps, which was superior to the performance of the endoscopists. Importantly, 92% of polyps missed by the endoscopists were detected by the CADe.9 In the last several years, numerous prospective, multicenter studies have found that real-time use of AI CADe tools during colonoscopy leads to improvements in adenoma detection and other related performance metrics. A meta-analysis by Huang et al10 of 10 randomized controlled trials with 6629 patients found that both ADR (relative risk [RR], 1.43; P < .001) and polyp detection rate (RR, 1.44; P < .001) were significantly greater with AI-aided colonoscopy compared with routine colonoscopy. The adenomas detected per colonoscopy (APC) and polyps detected per colonoscopy were also significantly higher in the AI-aided group compared with the routine colonoscopy group.10', metadata={'source': '/home/susearc/Documents/github/Weaviate_Openai/gut.txt'})"
      ]
     },
     "execution_count": 39,
     "metadata": {},
     "output_type": "execute_result"
    }
   ],
   "source": [
    "retriever = db.as_retriever(search_type=\"mmr\")\n",
    "retriever.get_relevant_documents(query)[0]"
   ]
  },
  {
   "cell_type": "markdown",
   "metadata": {},
   "source": [
    "USE CASES"
   ]
  },
  {
   "cell_type": "code",
   "execution_count": 11,
   "metadata": {},
   "outputs": [
    {
     "data": {
      "text/plain": [
       "'Artificial intelligence (AI) can be used in various ways to detect cancer in the gut. Here are a few potential methods:\\n\\n1. Image analysis: AI algorithms can analyze images obtained through endoscopic procedures like colonoscopy or capsule endoscopy, where a camera or imaging device captures images of the gut. AI can help in identifying abnormal growths, lesions, or tumors that could potentially be cancerous.\\n\\n2. Pattern recognition: AI can be trained on large datasets of medical images, including both healthy and diseased gut images. By learning from these datasets, AI models can recognize patterns and anomalies that may be indicative of cancer, allowing for early detection.\\n\\n3. Biomarker analysis: AI algorithms can assist in analyzing various biomarkers like specific proteins, DNA mutations, or chemical markers found in blood, tissue, or stool samples. These biomarkers could be associated with the presence of cancer in the gut, and AI can aid in detecting and classifying these markers.\\n\\n4. Natural language processing: AI can analyze and interpret information from medical records, pathology reports, or patient history. By extracting relevant information, AI can support in detecting and diagnosing gut cancer based on the clinical data available.\\n\\n5. Predictive modeling: AI can analyze various risk factors, such as genetic predispositions, lifestyle factors, dietary habits, or patient demographics, to create predictive models. These models can help identify individuals who may be at higher risk of developing gut cancer, allowing for targeted screening and early detection.\\n\\nIt is important to note that AI is not a replacement for human doctors, but rather a tool that can assist healthcare professionals in improving accuracy, efficiency, and early detection rates.'"
      ]
     },
     "execution_count": 11,
     "metadata": {},
     "output_type": "execute_result"
    }
   ],
   "source": [
    "# LLMS dont have access to outside knowledge the training data. Thus vector stores come in handy to provide LLMs with additonal context\n",
    "\n",
    "\n",
    "from langchain_community.chat_models import ChatOpenAI\n",
    "\n",
    "\n",
    "llm = ChatOpenAI(model=\"gpt-3.5-turbo\", temperature=1)\n",
    "llm.predict(\"How AI will detect cancer in gut?\")  #Not  he answer we were expecting"
   ]
  },
  {
   "cell_type": "markdown",
   "metadata": {},
   "source": [
    "Question Answering with Sources"
   ]
  },
  {
   "cell_type": "code",
   "execution_count": 12,
   "metadata": {},
   "outputs": [],
   "source": [
    "from langchain.chains import RetrievalQAWithSourcesChain\n",
    "from langchain_community.llms import OpenAI"
   ]
  },
  {
   "cell_type": "code",
   "execution_count": 13,
   "metadata": {},
   "outputs": [],
   "source": [
    "with open(\"/home/susearc/Documents/github/Weaviate_Openai/gut.txt\") as f:\n",
    "    state_of_the_union = f.read()\n",
    "text_splitter = CharacterTextSplitter(chunk_size=1000, chunk_overlap=0)\n",
    "texts = text_splitter.split_text(state_of_the_union)"
   ]
  },
  {
   "cell_type": "code",
   "execution_count": 15,
   "metadata": {},
   "outputs": [],
   "source": [
    "docsearch = Weaviate.from_texts(\n",
    "    texts,\n",
    "    embeddings,\n",
    "    weaviate_url=weaviate_url,\n",
    "    by_text=False,\n",
    "    metadatas=[{\"source\": f\"{i}-pl\"} for i in range(len(texts))],\n",
    ")"
   ]
  },
  {
   "cell_type": "code",
   "execution_count": 16,
   "metadata": {},
   "outputs": [],
   "source": [
    "chain = RetrievalQAWithSourcesChain.from_chain_type(\n",
    "    OpenAI(temperature=0), chain_type=\"stuff\", retriever=docsearch.as_retriever()\n",
    ")"
   ]
  },
  {
   "cell_type": "code",
   "execution_count": 17,
   "metadata": {},
   "outputs": [
    {
     "data": {
      "text/plain": [
       "{'answer': ' The article discusses the use of artificial intelligence and computer vision in colonoscopy, specifically for the detection of colorectal polyps. It mentions the use of convolutional neural networks and their success in detecting polyps, as well as the potential for improving adenoma detection and other performance metrics. \\n',\n",
       " 'sources': '0-pl'}"
      ]
     },
     "execution_count": 17,
     "metadata": {},
     "output_type": "execute_result"
    }
   ],
   "source": [
    "chain(\n",
    "    {\"question\": \"What did the article say\"},\n",
    "    return_only_outputs=True,\n",
    ")"
   ]
  },
  {
   "cell_type": "markdown",
   "metadata": {},
   "source": [
    "Retrieval-Augmented Generation"
   ]
  },
  {
   "cell_type": "code",
   "execution_count": 19,
   "metadata": {},
   "outputs": [],
   "source": [
    "with open(\"/home/susearc/Documents/github/Weaviate_Openai/gut.txt\") as f:\n",
    "    state_of_the_union = f.read()\n",
    "text_splitter = CharacterTextSplitter(chunk_size=1000, chunk_overlap=0)\n",
    "texts = text_splitter.split_text(state_of_the_union)"
   ]
  },
  {
   "cell_type": "code",
   "execution_count": 21,
   "metadata": {},
   "outputs": [],
   "source": [
    "docsearch = Weaviate.from_texts(\n",
    "    texts,\n",
    "    embeddings,\n",
    "    weaviate_url=weaviate_url,\n",
    "    by_text=False,\n",
    "    metadatas=[{\"source\": f\"{i}-pl\"} for i in range(len(texts))],\n",
    ")\n",
    "\n",
    "retriever = docsearch.as_retriever()"
   ]
  },
  {
   "cell_type": "code",
   "execution_count": 22,
   "metadata": {},
   "outputs": [
    {
     "name": "stdout",
     "output_type": "stream",
     "text": [
      "input_variables=['context', 'question'] messages=[HumanMessagePromptTemplate(prompt=PromptTemplate(input_variables=['context', 'question'], template='You are a helpful assistant, Use the following pieces of retrieved context to answer the question\\n\\n\\nQuestion: {question}\\nContext: {context}\\nAnswer:\\n'))]\n"
     ]
    }
   ],
   "source": [
    "from langchain.prompts import ChatPromptTemplate\n",
    "\n",
    "template = \"\"\"You are a helpful assistant, Use the following pieces of retrieved context to answer the question\n",
    "\n",
    "\n",
    "Question: {question}\n",
    "Context: {context}\n",
    "Answer:\n",
    "\"\"\"\n",
    "\n",
    "prompt = ChatPromptTemplate.from_template(template)\n",
    "print(prompt)"
   ]
  },
  {
   "cell_type": "code",
   "execution_count": 23,
   "metadata": {},
   "outputs": [],
   "source": [
    "from langchain_community.chat_models import ChatOpenAI\n",
    "\n",
    "llm = ChatOpenAI(model_name=\"gpt-3.5-turbo\", temperature=0)"
   ]
  },
  {
   "cell_type": "code",
   "execution_count": 24,
   "metadata": {},
   "outputs": [
    {
     "data": {
      "text/plain": [
       "'The ml framework used in this context is convolutional neural networks.'"
      ]
     },
     "execution_count": 24,
     "metadata": {},
     "output_type": "execute_result"
    }
   ],
   "source": [
    "\n",
    "\n",
    "from langchain_core.output_parsers import StrOutputParser\n",
    "from langchain_core.runnables import RunnablePassthrough\n",
    "\n",
    "rag_chain = (\n",
    "    {\"context\": retriever, \"question\":RunnablePassthrough()}\n",
    "    | prompt\n",
    "    | llm\n",
    "    | StrOutputParser()\n",
    ")\n",
    "\n",
    "\n",
    "rag_chain.invoke(\"What ml framework does it uses?\")"
   ]
  },
  {
   "cell_type": "code",
   "execution_count": null,
   "metadata": {},
   "outputs": [],
   "source": []
  }
 ],
 "metadata": {
  "kernelspec": {
   "display_name": "Python 3",
   "language": "python",
   "name": "python3"
  },
  "language_info": {
   "codemirror_mode": {
    "name": "ipython",
    "version": 3
   },
   "file_extension": ".py",
   "mimetype": "text/x-python",
   "name": "python",
   "nbconvert_exporter": "python",
   "pygments_lexer": "ipython3",
   "version": "3.9.18"
  }
 },
 "nbformat": 4,
 "nbformat_minor": 2
}
