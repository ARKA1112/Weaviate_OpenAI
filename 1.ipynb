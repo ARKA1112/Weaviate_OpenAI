{
 "cells": [
  {
   "cell_type": "code",
   "execution_count": 6,
   "metadata": {},
   "outputs": [],
   "source": [
    "import os\n",
    "#from dotenv import load_dotenv\n",
    "os.environ['OPENAI_API_KEY'] = OPENAI_API_KEY\n",
    "os.environ['WEAVIATE_NETWORK'] = \"https://first-weaviate-434345.weaviate.network\""
   ]
  },
  {
   "cell_type": "code",
   "execution_count": 9,
   "metadata": {},
   "outputs": [],
   "source": [
    "import openai\n",
    "openai.api_key = os.environ['WEAVIATE_NETWORK']\n",
    "weaviate_network = os.environ['WEAVIATE_NETWORK']"
   ]
  },
  {
   "cell_type": "code",
   "execution_count": null,
   "metadata": {},
   "outputs": [],
   "source": []
  },
  {
   "cell_type": "code",
   "execution_count": 10,
   "metadata": {},
   "outputs": [
    {
     "data": {
      "text/plain": [
       "True"
      ]
     },
     "execution_count": 10,
     "metadata": {},
     "output_type": "execute_result"
    }
   ],
   "source": [
    "import weaviate\n",
    "\n",
    "\n",
    "#initialize the client\n",
    "\n",
    "client = weaviate.Client(url=weaviate_network, additional_headers={\"X-OpenAI-Api-Key\":openai.api_key})\n",
    "\n",
    "client.is_ready()"
   ]
  },
  {
   "cell_type": "code",
   "execution_count": 21,
   "metadata": {},
   "outputs": [],
   "source": [
    "# imports\n",
    "import ast  # for converting embeddings saved as strings back to arrays\n",
    "from openai import OpenAI # for calling the OpenAI API\n",
    "import pandas as pd  # for storing text and embeddings data\n",
    "import tiktoken  # for counting tokens\n",
    "import os # for getting API token from env variable OPENAI_API_KEY\n",
    "from scipy import spatial  # for calculating vector similarities for search\n",
    "\n",
    "# models\n",
    "EMBEDDING_MODEL = \"text-embedding-ada-002\"\n",
    "GPT_MODEL = \"gpt-3.5-turbo\""
   ]
  },
  {
   "cell_type": "code",
   "execution_count": 22,
   "metadata": {},
   "outputs": [
    {
     "name": "stdout",
     "output_type": "stream",
     "text": [
      "I'm sorry, but as an AI language model, I don't have access to real-time information or the ability to predict future events. Therefore, I cannot provide you with the winner of the 2023 Cricket World Cup. You may need to check reliable sources or follow the tournament to find out the winner.\n"
     ]
    }
   ],
   "source": [
    "from openai import OpenAI\n",
    "openai_client = OpenAI()\n",
    "query = \"who won the 2023 cricket world cup\"\n",
    "\n",
    "response = openai_client.chat.completions.create(\n",
    "    messages=[\n",
    "        {\n",
    "            'role': 'system','content': \"You answer questions regarding 2023 cricket world cup\"\n",
    "        },\n",
    "        {\n",
    "            'role':'user','content':query\n",
    "        }\n",
    "    ],\n",
    "    model='gpt-3.5-turbo',\n",
    "    temperature=0\n",
    ")\n",
    "\n",
    "\n",
    "print(response.choices[0].message.content)"
   ]
  },
  {
   "cell_type": "code",
   "execution_count": 39,
   "metadata": {},
   "outputs": [],
   "source": [
    "file = []\n",
    "with open('wc.txt', 'r+') as f:\n",
    "    file.append(f.readlines())"
   ]
  },
  {
   "cell_type": "code",
   "execution_count": 43,
   "metadata": {},
   "outputs": [],
   "source": [
    "context = ','.join(file[0])"
   ]
  },
  {
   "cell_type": "code",
   "execution_count": 47,
   "metadata": {},
   "outputs": [
    {
     "name": "stdout",
     "output_type": "stream",
     "text": [
      "No, the team of Zimbabwe did not play in the Cricket World Cup 2023. The matches were played in ten different stadiums across India. The stadiums were:\n",
      "\n",
      "1. Narendra Modi Stadium, Ahmedabad\n",
      "2. M. Chinnaswamy Stadium, Bangalore\n",
      "3. M. A. Chidambaram Stadium, Chennai\n",
      "4. Arun Jaitley Stadium, Delhi\n",
      "5. HPCA Stadium, Dharamshala\n",
      "6. Rajiv Gandhi International Cricket Stadium, Hyderabad\n",
      "7. Eden Gardens, Kolkata\n",
      "8. BRSABV Ekana Cricket Stadium, Lucknow\n",
      "9. Wankhede Stadium, Mumbai\n",
      "10. Maharashtra Cricket Association Stadium, Pune\n",
      "\n",
      "Australia won the Cricket World Cup 2023.\n"
     ]
    }
   ],
   "source": [
    "query = f\"\"\"Use the article below to find about cricket world cup 2023 and answer the subsequent question. If you  dont know the answer say I dont know the answer\n",
    "\n",
    "Article:\n",
    "\\\"\\\"\\\"\n",
    "{context}\n",
    "\\\"\\\"\\\"\n",
    "Question: Did the team of zimbabwe play in the world cup cricket 2023?what were the stadiums where the matches were played? who won the world cup?\"\"\"\n",
    "\n",
    "\n",
    "response = openai_client.chat.completions.create(\n",
    "    messages=[\n",
    "        {'role': 'system', 'content': 'You answer questions about the 2023 cricket world cup.'},\n",
    "        {'role': 'user', 'content': query},\n",
    "    ],\n",
    "    model=GPT_MODEL,\n",
    "    temperature=0,\n",
    ")\n",
    "\n",
    "print(response.choices[0].message.content)"
   ]
  },
  {
   "cell_type": "code",
   "execution_count": null,
   "metadata": {},
   "outputs": [],
   "source": []
  }
 ],
 "metadata": {
  "kernelspec": {
   "display_name": "Python 3",
   "language": "python",
   "name": "python3"
  },
  "language_info": {
   "codemirror_mode": {
    "name": "ipython",
    "version": 3
   },
   "file_extension": ".py",
   "mimetype": "text/x-python",
   "name": "python",
   "nbconvert_exporter": "python",
   "pygments_lexer": "ipython3",
   "version": "3.11.6"
  }
 },
 "nbformat": 4,
 "nbformat_minor": 2
}
